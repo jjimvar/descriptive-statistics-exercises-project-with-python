{
 "cells": [
  {
   "cell_type": "markdown",
   "id": "6805e3f1",
   "metadata": {},
   "source": [
    "# Problemas de Estadística Descriptiva\n",
    "\n",
    "## Ejercicio 1 – ¿Qué tan largos son los títulos de las películas?\n",
    "\n",
    "En este ejercicio vas a aplicar técnicas de estadística descriptiva sobre un conjunto de datos real: una base con 1000 películas populares del sitio IMDb.\n",
    "\n",
    "A partir del título de cada película, vas a:\n",
    "- Calcular la longitud del título (en caracteres).\n",
    "- Obtener métricas estadísticas clave: media, mediana, moda, rango, varianza, desviación estándar, asimetría y curtosis.\n",
    "- Identificar los títulos más largos y más cortos.\n",
    "- Visualizar la distribución de estas longitudes con un histograma y una curva de densidad.\n"
   ]
  },
  {
   "cell_type": "code",
   "execution_count": 1,
   "id": "ca3d2c0a",
   "metadata": {},
   "outputs": [
    {
     "data": {
      "text/html": [
       "<div>\n",
       "<style scoped>\n",
       "    .dataframe tbody tr th:only-of-type {\n",
       "        vertical-align: middle;\n",
       "    }\n",
       "\n",
       "    .dataframe tbody tr th {\n",
       "        vertical-align: top;\n",
       "    }\n",
       "\n",
       "    .dataframe thead th {\n",
       "        text-align: right;\n",
       "    }\n",
       "</style>\n",
       "<table border=\"1\" class=\"dataframe\">\n",
       "  <thead>\n",
       "    <tr style=\"text-align: right;\">\n",
       "      <th></th>\n",
       "      <th>star_rating</th>\n",
       "      <th>title</th>\n",
       "      <th>content_rating</th>\n",
       "      <th>genre</th>\n",
       "      <th>duration</th>\n",
       "      <th>actors_list</th>\n",
       "    </tr>\n",
       "  </thead>\n",
       "  <tbody>\n",
       "    <tr>\n",
       "      <th>0</th>\n",
       "      <td>9.3</td>\n",
       "      <td>The Shawshank Redemption</td>\n",
       "      <td>R</td>\n",
       "      <td>Crime</td>\n",
       "      <td>142</td>\n",
       "      <td>[u'Tim Robbins', u'Morgan Freeman', u'Bob Gunt...</td>\n",
       "    </tr>\n",
       "    <tr>\n",
       "      <th>1</th>\n",
       "      <td>9.2</td>\n",
       "      <td>The Godfather</td>\n",
       "      <td>R</td>\n",
       "      <td>Crime</td>\n",
       "      <td>175</td>\n",
       "      <td>[u'Marlon Brando', u'Al Pacino', u'James Caan']</td>\n",
       "    </tr>\n",
       "    <tr>\n",
       "      <th>2</th>\n",
       "      <td>9.1</td>\n",
       "      <td>The Godfather: Part II</td>\n",
       "      <td>R</td>\n",
       "      <td>Crime</td>\n",
       "      <td>200</td>\n",
       "      <td>[u'Al Pacino', u'Robert De Niro', u'Robert Duv...</td>\n",
       "    </tr>\n",
       "    <tr>\n",
       "      <th>3</th>\n",
       "      <td>9.0</td>\n",
       "      <td>The Dark Knight</td>\n",
       "      <td>PG-13</td>\n",
       "      <td>Action</td>\n",
       "      <td>152</td>\n",
       "      <td>[u'Christian Bale', u'Heath Ledger', u'Aaron E...</td>\n",
       "    </tr>\n",
       "    <tr>\n",
       "      <th>4</th>\n",
       "      <td>8.9</td>\n",
       "      <td>Pulp Fiction</td>\n",
       "      <td>R</td>\n",
       "      <td>Crime</td>\n",
       "      <td>154</td>\n",
       "      <td>[u'John Travolta', u'Uma Thurman', u'Samuel L....</td>\n",
       "    </tr>\n",
       "  </tbody>\n",
       "</table>\n",
       "</div>"
      ],
      "text/plain": [
       "   star_rating                     title content_rating   genre  duration  \\\n",
       "0          9.3  The Shawshank Redemption              R   Crime       142   \n",
       "1          9.2             The Godfather              R   Crime       175   \n",
       "2          9.1    The Godfather: Part II              R   Crime       200   \n",
       "3          9.0           The Dark Knight          PG-13  Action       152   \n",
       "4          8.9              Pulp Fiction              R   Crime       154   \n",
       "\n",
       "                                         actors_list  \n",
       "0  [u'Tim Robbins', u'Morgan Freeman', u'Bob Gunt...  \n",
       "1    [u'Marlon Brando', u'Al Pacino', u'James Caan']  \n",
       "2  [u'Al Pacino', u'Robert De Niro', u'Robert Duv...  \n",
       "3  [u'Christian Bale', u'Heath Ledger', u'Aaron E...  \n",
       "4  [u'John Travolta', u'Uma Thurman', u'Samuel L....  "
      ]
     },
     "execution_count": 1,
     "metadata": {},
     "output_type": "execute_result"
    }
   ],
   "source": [
    "# Importar librerias\n",
    "import pandas as pd\n",
    "import numpy as np\n",
    "import matplotlib.pyplot as plt\n",
    "from scipy.stats import skew, kurtosis, mode\n",
    "\n",
    "# Cargar dataset de IMDb\n",
    "url = \"C:/Users/jjime/OneDrive/Git Hub/descriptive-statistics-exercises-project-with-python/assets/imdb_1000.csv\"\n",
    "df = pd.read_csv(url)\n",
    "\n",
    "#Visualizamos los 5 primeros valores\n",
    "df.head(5)"
   ]
  },
  {
   "cell_type": "code",
   "execution_count": 2,
   "id": "d067d0a3",
   "metadata": {},
   "outputs": [],
   "source": [
    "def cont_caract():\n",
    "    correc=df[\"title\"].replace(to_replace=r\"\\s+\", value=\"\", regex=True)\n",
    "    tit_corr=[]\n",
    "    for title in range(len(correc)):\n",
    "        tit_corr.append(len(correc.iloc[title]))\n",
    "\n",
    "x=cont_caract()"
   ]
  },
  {
   "cell_type": "code",
   "execution_count": 10,
   "id": "61d39304",
   "metadata": {},
   "outputs": [
    {
     "data": {
      "text/plain": [
       "0    22\n",
       "1    12\n",
       "2    19\n",
       "3    13\n",
       "4    11\n",
       "Name: title_length, dtype: int64"
      ]
     },
     "execution_count": 10,
     "metadata": {},
     "output_type": "execute_result"
    }
   ],
   "source": [
    "# Crea una nueva columna llamada 'title_length' con la longitud (número de caracteres, sin incluir espacios) de cada título\n",
    "df[\"title_length\"]=df[\"title\"].str.replace(\" \", \"\").str.len()\n",
    "df[\"title_length\"].head(5)"
   ]
  },
  {
   "cell_type": "markdown",
   "id": "6ae0a784",
   "metadata": {},
   "source": [
    "**MEDIDAS DE TENDENCIA CENTRAL**\n",
    "\n",
    "*Media*: **$\\={x}=\\frac{∑x_{i}}{n}$**\n",
    "\n",
    "*Mediana*: **$\\text{Med}(X) = \\begin{cases} X\\left[\\frac{n+1}{2}\\right] & \\text{si } n \\text{ es impar} \\\\ \\frac{X\\left[\\frac{n}{2}\\right] + X\\left[\\frac{n}{2} + 1\\right]}{2} & \\text{si } n \\text{ es par} \\end{cases}$**\n",
    "\n",
    "Moda: Valor con mayor frecuencia relativa"
   ]
  },
  {
   "cell_type": "code",
   "execution_count": 71,
   "id": "cae9c2e7",
   "metadata": {},
   "outputs": [],
   "source": [
    "# Calcula media, mediana y moda de la columna 'title_length'\n",
    "## Media: suma de todos los valores partido el numero de observaciones\n",
    "def media(x):\n",
    "    return sum(x)/len(x)\n",
    "\n",
    "## Mediana: valor central valor central después de ordenar los datos (nº impar datos), media de los dos valores centrales (nº par datos)\n",
    "def mediana(x):\n",
    "    if len(df[\"title_length\"])%2==0: #par: media de los dos valores centrales\n",
    "        x=x.sort_values()\n",
    "        return (x.iloc[int(len(x)/2)-1]+(x.iloc[int(len(x)/2)]))/2\n",
    "\n",
    "    else: #impar: valor central valor central\n",
    "        return x.sort_values().iloc[round(len(x)/2)]\n",
    "    \n",
    "## Moda: \n",
    "def moda(x):\n",
    "    return x.value_counts().index[0]"
   ]
  },
  {
   "cell_type": "markdown",
   "id": "565edc83",
   "metadata": {},
   "source": [
    "**MEDIDAS DE DISPERSIÓN**\n",
    "\n",
    "*Rango*:  $R=M_{áx}-M_{ín}$\n",
    "\n",
    "*Varianza*: $\\sigma ^{2}=\\frac{\\Sigma (x-\\={x} )^{2}}{n-1}$\n",
    "\n",
    "*Desviación estandar*: $\\sigma=\\sqrt{\\sigma ^{2}}$"
   ]
  },
  {
   "cell_type": "code",
   "execution_count": null,
   "id": "69664a9b",
   "metadata": {},
   "outputs": [],
   "source": [
    "# Calcula el rango, la varianza y la desviación estándar de 'title_length'\n",
    "\n",
    "##Rango: diferencia entre maximo y minimo\n",
    "def rango(x):\n",
    "    nmax=x.sort_values().iloc[int(len(df[\"title_length\"])-1)]\n",
    "    nmin=x.sort_values().iloc[0]\n",
    "    return nmax-nmin\n",
    "\n",
    "##Varianza: media de la diferencia al cuadrado con respecto a la media\n",
    "def varianza(x):\n",
    "    suma_diff_cuad=sum((x-media(x))**2)\n",
    "    return suma_diff_cuad/(len(x)-1)\n",
    "\n",
    "##Devianza: media de la diferencia con respecto a la media\n",
    "def desviacion(x):\n",
    "    suma_diff_cuad=sum((x-media(x))**2)\n",
    "    return (suma_diff_cuad/(len(x)-1))**(1/2)"
   ]
  },
  {
   "cell_type": "markdown",
   "id": "fb0c41fd",
   "metadata": {},
   "source": [
    "**MEDIDAS DE FORMA**\n",
    "\n",
    "*Asimetría*: $S_{K}=\\frac{n}{(n-1)(n-2)}\\sum _{i=1}^{n}\\left(\\frac{x_{i}-\\={x}}{s}\\right)^{3}$\n",
    "\n",
    "*Exceso de Curtosis*: $k=\\frac{\\frac{1}{n}\\sum _{i=1}^{n}(x_{i}-\\={x})^{4}}{(\\frac{1}{n}\\sum _{i=1}^{n}(x_{i}-\\={x})^{2})^{2}}-3$ \n",
    "\n",
    "(comparación frente a distribución normal, curtosis=3)\n"
   ]
  },
  {
   "cell_type": "code",
   "execution_count": null,
   "id": "6b9a931c",
   "metadata": {},
   "outputs": [],
   "source": [
    "# Calcula asimetría y curtosis de la columna 'title_length'\n",
    "\n",
    "##Asimetría: distribucion colas (izq/derech)\n",
    "def asimetria(x):\n",
    "    suma_cubo=sum(((x-media(x))/desviacion(x))**3)\n",
    "    operador=len(x)/((len(x)-1)*(len(x)-2))\n",
    "    return operador*suma_cubo\n",
    "\n",
    "##Curtosis\n",
    "def curtosis(x):\n",
    "    num=(1/len(x))*(sum((x-media(x))**4))\n",
    "    deno=((1/len(x))*(sum((x-media(x))**2)))**2\n",
    "    return (num/deno)-3"
   ]
  },
  {
   "cell_type": "code",
   "execution_count": 152,
   "id": "c0d09e68",
   "metadata": {},
   "outputs": [
    {
     "name": "stdout",
     "output_type": "stream",
     "text": [
      "Pelicula con el título más corto: M\n",
      "Pelicula con el título más largo: Dr. Strangelove or: How I Learned to Stop Worrying and Love the Bomb\n"
     ]
    }
   ],
   "source": [
    "# Imprime el título más corto y el título más largo según su longitud\n",
    "print(f\"Pelicula con el título más corto: {df.loc[df[\"title_length\"].idxmin(), \"title\"]}\")\n",
    "print(f\"Pelicula con el título más largo: {df.loc[df[\"title_length\"].idxmax(), \"title\"]}\")"
   ]
  },
  {
   "cell_type": "code",
   "execution_count": null,
   "id": "e86a1ced",
   "metadata": {},
   "outputs": [
    {
     "data": {
      "image/png": "[encoded data removed]",
      "text/plain": [
       "<Figure size 1000x600 with 1 Axes>"
      ]
     },
     "metadata": {},
     "output_type": "display_data"
    }
   ],
   "source": [
    "#Representación gráfica\n",
    "plt.figure(figsize=(10, 6))\n",
    "plt.hist(df[\"title_length\"], bins=\"auto\", edgecolor='black', alpha=0.9)\n",
    "plt.title(\"Distribución de la longitud del título\".upper(), fontweight=\"bold\", size=18)\n",
    "plt.xlabel(\"Cantidad de letras\")\n",
    "plt.ylabel(\"Frecuencia abosluta\")\n",
    "plt.grid(axis=\"y\")\n",
    "plt.show()"
   ]
  },
  {
   "cell_type": "markdown",
   "id": "eaf3ceb7",
   "metadata": {},
   "source": [
    "---\n",
    "\n",
    "## Ejercicio 2 – Cálculo manual de desviación estándar\n",
    "\n",
    "En este ejercicio vas a calcular manualmente la desviación estándar, seleccionando cinco títulos reales del dataset de películas que cargaste antes.\n"
   ]
  },
  {
   "cell_type": "code",
   "execution_count": 167,
   "id": "b1806c2d",
   "metadata": {},
   "outputs": [],
   "source": [
    "from numpy import random"
   ]
  },
  {
   "cell_type": "code",
   "execution_count": 178,
   "id": "3005c0f9",
   "metadata": {},
   "outputs": [
    {
     "data": {
      "text/plain": [
       "[17, 8, 19, 11, 16]"
      ]
     },
     "execution_count": 178,
     "metadata": {},
     "output_type": "execute_result"
    }
   ],
   "source": [
    "# Creamos una lista con 5 valores aleatorios de df['title_length']\n",
    "indices=random.randint(0, len(df[\"title_length\"]), 5)\n",
    "valores=df[\"title_length\"].iloc[indices].to_list()\n",
    "valores"
   ]
  },
  {
   "cell_type": "code",
   "execution_count": null,
   "id": "d96b771f",
   "metadata": {},
   "outputs": [
    {
     "name": "stdout",
     "output_type": "stream",
     "text": [
      "Media: 14.2 letras\n"
     ]
    }
   ],
   "source": [
    "# Calculamos la media\n",
    "print(f\"Media: {media(valores)} letras\")"
   ]
  },
  {
   "cell_type": "code",
   "execution_count": null,
   "id": "f56517ff",
   "metadata": {},
   "outputs": [
    {
     "name": "stdout",
     "output_type": "stream",
     "text": [
      "Varianza: 20.7 letras al cuadrado\n",
      "Desviación típica: 4.54972526643093 letras\n"
     ]
    }
   ],
   "source": [
    "# Calculamos la varianza y las desviancion tipica\n",
    "print(f\"Varianza: {varianza(pd.Series(valores))} letras al cuadrado\")\n",
    "print(f\"Desviación típica: {desviacion(pd.Series(valores))} letras\")"
   ]
  }
 ],
 "metadata": {
  "kernelspec": {
   "display_name": "Python 3",
   "language": "python",
   "name": "python3"
  },
  "language_info": {
   "codemirror_mode": {
    "name": "ipython",
    "version": 3
   },
   "file_extension": ".py",
   "mimetype": "text/x-python",
   "name": "python",
   "nbconvert_exporter": "python",
   "pygments_lexer": "ipython3",
   "version": "3.13.5"
  }
 },
 "nbformat": 4,
 "nbformat_minor": 5
}
